{
 "cells": [
  {
   "cell_type": "code",
   "execution_count": 31,
   "metadata": {},
   "outputs": [],
   "source": [
    "# Import libraries\n",
    "import pandas as pd\n",
    "import numpy as np\n",
    "import tensorflow as tf\n",
    "from keras.layers import Dense, Dropout\n",
    "from keras.models import Sequential\n"
   ]
  },
  {
   "cell_type": "code",
   "execution_count": 32,
   "metadata": {},
   "outputs": [
    {
     "name": "stderr",
     "output_type": "stream",
     "text": [
      "C:\\Users\\Tedd\\AppData\\Local\\Temp\\ipykernel_28660\\239611994.py:14: UserWarning: This pattern is interpreted as a regular expression, and has match groups. To actually get the groups, use str.extract.\n",
      "  data['BIDREQUESTIP'] = data['BIDREQUESTIP'].astype(str).apply(lambda x: x if pd.Series(x).str.contains('^(\\d{1,3}\\.){3}\\d{1,3}$').all() else None)\n",
      "C:\\Users\\Tedd\\AppData\\Local\\Temp\\ipykernel_28660\\239611994.py:17: FutureWarning: The default value of regex will change from True to False in a future version.\n",
      "  data['USERZIPCODE'] = data['USERZIPCODE'].astype(str).str.replace(r'\\D+', '')\n"
     ]
    },
    {
     "name": "stdout",
     "output_type": "stream",
     "text": [
      "     ID DEVICETYPE  PLATFORM_ID   BIDREQUESTIP  \\\n",
      "0  1001    Desktop            2   170.173.0.22   \n",
      "1  1002    Desktop            2  65.216.253.25   \n",
      "2  1003    Desktop            2   66.232.79.22   \n",
      "\n",
      "                        USERPLATFORMUID     USERCITY USERZIPCODE  \\\n",
      "0  6974dcaa-f932-480e-9fb5-c52e20e1393a     Portland      972060   \n",
      "1  c12f3f8f-8fcf-484a-90e1-1ac04db8cdcf    Arlington      222020   \n",
      "2  a698de4b-e200-46dd-b5fb-40402175ae18  New Meadows      836540   \n",
      "\n",
      "                                           USERAGENT            PLATFORMTYPE  \\\n",
      "0  Mozilla/5.0 (Windows NT 10.0; Win64; x64) Appl...  Online Medical Journal   \n",
      "1  Mozilla/5.0 (Macintosh; Intel Mac OS X 10_15_7...  Online Medical Journal   \n",
      "2  Mozilla/5.0 (Macintosh; Intel Mac OS X 10_15_7...  Online Medical Journal   \n",
      "\n",
      "  CHANNELTYPE                                                URL  \\\n",
      "0     Website  https://www.cancertherapyadvisor.com/home/canc...   \n",
      "1     Website  https://www.cancertherapyadvisor.com/home/deci...   \n",
      "2     Website  https://www.cancertherapyadvisor.com/home/canc...   \n",
      "\n",
      "                                            KEYWORDS TAXONOMY  IS_HCP  \\\n",
      "0  Oncology|Endocrine|General|Urology|Cardiovascu...      NaN       0   \n",
      "1  Oncology|Transplantation|Anemia|Endocrine|Gene...      NaN       0   \n",
      "2  Oncology|Endocrine|General|Urology|Cardiovascu...      NaN       0   \n",
      "\n",
      "       BROWSER                                                 OS  \n",
      "0  Mozilla/5.0  Windows NT 10.0; Win64; x64) AppleWebKit/537.3...  \n",
      "1  Mozilla/5.0  Macintosh; Intel Mac OS X 10_15_7) AppleWebKit...  \n",
      "2  Mozilla/5.0  Macintosh; Intel Mac OS X 10_15_7) AppleWebKit...  \n"
     ]
    }
   ],
   "source": [
    "# Read the train.csv into a DataFrame\n",
    "data = pd.read_csv('data\\Doceree-HCP_Train.csv', encoding='latin-1')\n",
    "\n",
    "# Remove leading/trailing whitespaces from all string columns\n",
    "data = data.apply(lambda x: x.str.strip() if x.dtype == \"object\" else x)\n",
    "\n",
    "# Convert ID column to string\n",
    "data['ID'] = data['ID'].astype(str)\n",
    "\n",
    "# Remove rows with missing values in specific columns\n",
    "data = data.dropna(subset=['DEVICETYPE', 'PLATFORM_ID'])\n",
    "\n",
    "# Clean the BIDREQUESTIP column by removing invalid IP addresses\n",
    "data['BIDREQUESTIP'] = data['BIDREQUESTIP'].astype(str).apply(lambda x: x if pd.Series(x).str.contains('^(\\d{1,3}\\.){3}\\d{1,3}$').all() else None)\n",
    "\n",
    "# Clean the USERZIPCODE column by removing non-numeric characters\n",
    "data['USERZIPCODE'] = data['USERZIPCODE'].astype(str).str.replace(r'\\D+', '')\n",
    "\n",
    "# Split the USERAGENT column into separate browser and operating system columns\n",
    "data[['BROWSER', 'OS']] = data['USERAGENT'].astype(str).str.split('(', n=1, expand=True)\n",
    "data['BROWSER'] = data['BROWSER'].astype(str).str.strip()\n",
    "data['OS'] = data['OS'].astype(str).str.rstrip(')')\n",
    "\n",
    "# Remove duplicates from KEYWORDS column\n",
    "data['KEYWORDS'] = data['KEYWORDS'].apply(lambda x: '|'.join(set(x.split('|'))) if pd.notnull(x) else x)\n",
    "\n",
    "# Fill missing values in IS_HCP column with 0\n",
    "data['IS_HCP'].fillna(0, inplace=True)\n",
    "\n",
    "# Convert IS_HCP column to integer\n",
    "data['IS_HCP'] = data['IS_HCP'].astype(int)\n",
    "\n",
    "# Print the cleaned data\n",
    "print(data.head(3))\n"
   ]
  },
  {
   "cell_type": "code",
   "execution_count": 33,
   "metadata": {},
   "outputs": [
    {
     "data": {
      "text/plain": [
       "16"
      ]
     },
     "execution_count": 33,
     "metadata": {},
     "output_type": "execute_result"
    }
   ],
   "source": [
    "data.dtypes.count()"
   ]
  },
  {
   "cell_type": "code",
   "execution_count": 34,
   "metadata": {},
   "outputs": [
    {
     "data": {
      "text/plain": [
       "208"
      ]
     },
     "execution_count": 34,
     "metadata": {},
     "output_type": "execute_result"
    }
   ],
   "source": [
    "len(data['TAXONOMY'].unique())"
   ]
  },
  {
   "cell_type": "code",
   "execution_count": 35,
   "metadata": {},
   "outputs": [
    {
     "name": "stderr",
     "output_type": "stream",
     "text": [
      "C:\\Users\\Tedd\\AppData\\Local\\Temp\\ipykernel_28660\\1607418820.py:14: UserWarning: This pattern is interpreted as a regular expression, and has match groups. To actually get the groups, use str.extract.\n",
      "  test_data['BIDREQUESTIP'] = test_data['BIDREQUESTIP'].astype(str).apply(lambda x: x if pd.Series(x).str.contains('^(\\d{1,3}\\.){3}\\d{1,3}$').all() else None)\n",
      "C:\\Users\\Tedd\\AppData\\Local\\Temp\\ipykernel_28660\\1607418820.py:17: FutureWarning: The default value of regex will change from True to False in a future version.\n",
      "  test_data['USERZIPCODE'] = test_data['USERZIPCODE'].astype(str).str.replace(r'\\D+', '')\n"
     ]
    },
    {
     "name": "stdout",
     "output_type": "stream",
     "text": [
      "       ID DEVICETYPE  PLATFORM_ID     BIDREQUESTIP  \\\n",
      "0  115501    Desktop          2.0   75.189.231.103   \n",
      "1  115502     Mobile          2.0    24.101.33.158   \n",
      "2  115503    Desktop          2.0  172.118.216.142   \n",
      "\n",
      "                        USERPLATFORMUID       USERCITY USERZIPCODE  \\\n",
      "0  0d5041ff-f0b6-4d1a-9ad7-0a29f7d485b4   Fayetteville      283050   \n",
      "1  c8396dd0-969f-4d99-a40b-b7bb1f516154  Conneaut Lake      163160   \n",
      "2  3c97a081-6518-43f8-9f26-369759cfb471         Covina      917240   \n",
      "\n",
      "                                           USERAGENT            PLATFORMTYPE  \\\n",
      "0  Mozilla/5.0 (Macintosh; Intel Mac OS X 10_11_6...  Online Medical Journal   \n",
      "1  Mozilla/5.0 (iPhone; CPU iPhone OS 15_6_1 like...  Online Medical Journal   \n",
      "2  Mozilla/5.0 (Macintosh; Intel Mac OS X 10_15_7...  Online Medical Journal   \n",
      "\n",
      "  CHANNELTYPE                                                URL  \\\n",
      "0     Website  https://www.clinicaladvisor.com/home/features/...   \n",
      "1     Website  https://www.ophthalmologyadvisor.com/topics/ca...   \n",
      "2     Website  https://www.psychiatryadvisor.com/author/tori-...   \n",
      "\n",
      "                                            KEYWORDS      BROWSER  \\\n",
      "0  Oncology|Surgical|General|Urology|Cardiovascul...  Mozilla/5.0   \n",
      "1  Oncology|False|Cardiology|Laser|Medicine|Surge...  Mozilla/5.0   \n",
      "2  False|Trauma|Cardiology|Psychiatry|Clinical|Me...  Mozilla/5.0   \n",
      "\n",
      "                                                  OS  \n",
      "0  Macintosh; Intel Mac OS X 10_11_6) AppleWebKit...  \n",
      "1  iPhone; CPU iPhone OS 15_6_1 like Mac OS X) Ap...  \n",
      "2  Macintosh; Intel Mac OS X 10_15_7) AppleWebKit...  \n"
     ]
    }
   ],
   "source": [
    "# Read the data from CSV file\n",
    "test_data = pd.read_csv('data\\Doceree-HCP-Test.csv', encoding='latin-1')\n",
    "\n",
    "# Remove leading/trailing whitespaces from all string columns\n",
    "test_data = test_data.apply(lambda x: x.str.strip() if x.dtype == \"object\" else x)\n",
    "\n",
    "# Convert ID column to string\n",
    "test_data['ID'] = test_data['ID'].astype(str)\n",
    "\n",
    "# Remove rows with missing values in specific columns\n",
    "test_data = test_data.dropna(subset=['DEVICETYPE', 'PLATFORM_ID'])\n",
    "\n",
    "# Clean the BIDREQUESTIP column by removing invalid IP addresses\n",
    "test_data['BIDREQUESTIP'] = test_data['BIDREQUESTIP'].astype(str).apply(lambda x: x if pd.Series(x).str.contains('^(\\d{1,3}\\.){3}\\d{1,3}$').all() else None)\n",
    "\n",
    "# Clean the USERZIPCODE column by removing non-numeric characters\n",
    "test_data['USERZIPCODE'] = test_data['USERZIPCODE'].astype(str).str.replace(r'\\D+', '')\n",
    "\n",
    "# Split the USERAGENT column into separate browser and operating system columns\n",
    "test_data[['BROWSER', 'OS']] = test_data['USERAGENT'].astype(str).str.split('(', n=1, expand=True)\n",
    "test_data['BROWSER'] = test_data['BROWSER'].astype(str).str.strip()\n",
    "test_data['OS'] = test_data['OS'].astype(str).str.rstrip(')')\n",
    "\n",
    "# Remove duplicates from KEYWORDS column\n",
    "test_data['KEYWORDS'] = test_data['KEYWORDS'].apply(lambda x: '|'.join(set(x.split('|'))) if pd.notnull(x) else x)\n",
    "\n",
    "# Print the cleaned data\n",
    "print(test_data.head(3))\n"
   ]
  },
  {
   "cell_type": "code",
   "execution_count": 36,
   "metadata": {},
   "outputs": [
    {
     "data": {
      "text/plain": [
       "14"
      ]
     },
     "execution_count": 36,
     "metadata": {},
     "output_type": "execute_result"
    }
   ],
   "source": [
    "test_data.dtypes.count()"
   ]
  },
  {
   "cell_type": "code",
   "execution_count": 37,
   "metadata": {},
   "outputs": [
    {
     "data": {
      "text/plain": [
       "<bound method NDFrame.describe of ID                  object\n",
       "DEVICETYPE          object\n",
       "PLATFORM_ID        float64\n",
       "BIDREQUESTIP        object\n",
       "USERPLATFORMUID     object\n",
       "USERCITY            object\n",
       "USERZIPCODE         object\n",
       "USERAGENT           object\n",
       "PLATFORMTYPE        object\n",
       "CHANNELTYPE         object\n",
       "URL                 object\n",
       "KEYWORDS            object\n",
       "BROWSER             object\n",
       "OS                  object\n",
       "dtype: object>"
      ]
     },
     "execution_count": 37,
     "metadata": {},
     "output_type": "execute_result"
    }
   ],
   "source": [
    "test_data.dtypes.describe"
   ]
  },
  {
   "cell_type": "code",
   "execution_count": 38,
   "metadata": {},
   "outputs": [],
   "source": [
    "# encode all the columns\n",
    "from sklearn.preprocessing import LabelEncoder\n",
    "le = LabelEncoder()\n",
    "test_data = test_data.apply(le.fit_transform)"
   ]
  },
  {
   "cell_type": "code",
   "execution_count": 39,
   "metadata": {},
   "outputs": [
    {
     "data": {
      "text/html": [
       "<div>\n",
       "<style scoped>\n",
       "    .dataframe tbody tr th:only-of-type {\n",
       "        vertical-align: middle;\n",
       "    }\n",
       "\n",
       "    .dataframe tbody tr th {\n",
       "        vertical-align: top;\n",
       "    }\n",
       "\n",
       "    .dataframe thead th {\n",
       "        text-align: right;\n",
       "    }\n",
       "</style>\n",
       "<table border=\"1\" class=\"dataframe\">\n",
       "  <thead>\n",
       "    <tr style=\"text-align: right;\">\n",
       "      <th></th>\n",
       "      <th>ID</th>\n",
       "      <th>DEVICETYPE</th>\n",
       "      <th>PLATFORM_ID</th>\n",
       "      <th>BIDREQUESTIP</th>\n",
       "      <th>USERPLATFORMUID</th>\n",
       "      <th>USERCITY</th>\n",
       "      <th>USERZIPCODE</th>\n",
       "      <th>USERAGENT</th>\n",
       "      <th>PLATFORMTYPE</th>\n",
       "      <th>CHANNELTYPE</th>\n",
       "      <th>URL</th>\n",
       "      <th>KEYWORDS</th>\n",
       "      <th>BROWSER</th>\n",
       "      <th>OS</th>\n",
       "    </tr>\n",
       "  </thead>\n",
       "  <tbody>\n",
       "    <tr>\n",
       "      <th>0</th>\n",
       "      <td>0</td>\n",
       "      <td>0</td>\n",
       "      <td>1</td>\n",
       "      <td>12371</td>\n",
       "      <td>935</td>\n",
       "      <td>858</td>\n",
       "      <td>1621</td>\n",
       "      <td>1230</td>\n",
       "      <td>3</td>\n",
       "      <td>0</td>\n",
       "      <td>545</td>\n",
       "      <td>466</td>\n",
       "      <td>4</td>\n",
       "      <td>1236</td>\n",
       "    </tr>\n",
       "    <tr>\n",
       "      <th>1</th>\n",
       "      <td>1</td>\n",
       "      <td>1</td>\n",
       "      <td>1</td>\n",
       "      <td>6273</td>\n",
       "      <td>14094</td>\n",
       "      <td>560</td>\n",
       "      <td>614</td>\n",
       "      <td>2119</td>\n",
       "      <td>3</td>\n",
       "      <td>0</td>\n",
       "      <td>2279</td>\n",
       "      <td>304</td>\n",
       "      <td>4</td>\n",
       "      <td>2127</td>\n",
       "    </tr>\n",
       "    <tr>\n",
       "      <th>2</th>\n",
       "      <td>2</td>\n",
       "      <td>0</td>\n",
       "      <td>1</td>\n",
       "      <td>2996</td>\n",
       "      <td>4194</td>\n",
       "      <td>593</td>\n",
       "      <td>6202</td>\n",
       "      <td>1328</td>\n",
       "      <td>3</td>\n",
       "      <td>0</td>\n",
       "      <td>2305</td>\n",
       "      <td>79</td>\n",
       "      <td>4</td>\n",
       "      <td>1334</td>\n",
       "    </tr>\n",
       "  </tbody>\n",
       "</table>\n",
       "</div>"
      ],
      "text/plain": [
       "   ID  DEVICETYPE  PLATFORM_ID  BIDREQUESTIP  USERPLATFORMUID  USERCITY  \\\n",
       "0   0           0            1         12371              935       858   \n",
       "1   1           1            1          6273            14094       560   \n",
       "2   2           0            1          2996             4194       593   \n",
       "\n",
       "   USERZIPCODE  USERAGENT  PLATFORMTYPE  CHANNELTYPE   URL  KEYWORDS  BROWSER  \\\n",
       "0         1621       1230             3            0   545       466        4   \n",
       "1          614       2119             3            0  2279       304        4   \n",
       "2         6202       1328             3            0  2305        79        4   \n",
       "\n",
       "     OS  \n",
       "0  1236  \n",
       "1  2127  \n",
       "2  1334  "
      ]
     },
     "execution_count": 39,
     "metadata": {},
     "output_type": "execute_result"
    }
   ],
   "source": [
    "test_data.head(3)"
   ]
  },
  {
   "cell_type": "code",
   "execution_count": 40,
   "metadata": {},
   "outputs": [
    {
     "data": {
      "text/plain": [
       "14"
      ]
     },
     "execution_count": 40,
     "metadata": {},
     "output_type": "execute_result"
    }
   ],
   "source": [
    "test_data.dtypes.count()"
   ]
  },
  {
   "cell_type": "code",
   "execution_count": 41,
   "metadata": {},
   "outputs": [],
   "source": [
    "# Divide the data target variable and features\n",
    "X = data.drop(['TAXONOMY','IS_HCP'], axis=1)\n",
    "y = data[['TAXONOMY','IS_HCP']]"
   ]
  },
  {
   "cell_type": "code",
   "execution_count": 42,
   "metadata": {},
   "outputs": [
    {
     "data": {
      "text/html": [
       "<div>\n",
       "<style scoped>\n",
       "    .dataframe tbody tr th:only-of-type {\n",
       "        vertical-align: middle;\n",
       "    }\n",
       "\n",
       "    .dataframe tbody tr th {\n",
       "        vertical-align: top;\n",
       "    }\n",
       "\n",
       "    .dataframe thead th {\n",
       "        text-align: right;\n",
       "    }\n",
       "</style>\n",
       "<table border=\"1\" class=\"dataframe\">\n",
       "  <thead>\n",
       "    <tr style=\"text-align: right;\">\n",
       "      <th></th>\n",
       "      <th>ID</th>\n",
       "      <th>DEVICETYPE</th>\n",
       "      <th>PLATFORM_ID</th>\n",
       "      <th>BIDREQUESTIP</th>\n",
       "      <th>USERPLATFORMUID</th>\n",
       "      <th>USERCITY</th>\n",
       "      <th>USERZIPCODE</th>\n",
       "      <th>USERAGENT</th>\n",
       "      <th>PLATFORMTYPE</th>\n",
       "      <th>CHANNELTYPE</th>\n",
       "      <th>URL</th>\n",
       "      <th>KEYWORDS</th>\n",
       "      <th>BROWSER</th>\n",
       "      <th>OS</th>\n",
       "    </tr>\n",
       "  </thead>\n",
       "  <tbody>\n",
       "    <tr>\n",
       "      <th>0</th>\n",
       "      <td>1001</td>\n",
       "      <td>Desktop</td>\n",
       "      <td>2</td>\n",
       "      <td>170.173.0.22</td>\n",
       "      <td>6974dcaa-f932-480e-9fb5-c52e20e1393a</td>\n",
       "      <td>Portland</td>\n",
       "      <td>972060</td>\n",
       "      <td>Mozilla/5.0 (Windows NT 10.0; Win64; x64) Appl...</td>\n",
       "      <td>Online Medical Journal</td>\n",
       "      <td>Website</td>\n",
       "      <td>https://www.cancertherapyadvisor.com/home/canc...</td>\n",
       "      <td>Oncology|Endocrine|General|Urology|Cardiovascu...</td>\n",
       "      <td>Mozilla/5.0</td>\n",
       "      <td>Windows NT 10.0; Win64; x64) AppleWebKit/537.3...</td>\n",
       "    </tr>\n",
       "    <tr>\n",
       "      <th>1</th>\n",
       "      <td>1002</td>\n",
       "      <td>Desktop</td>\n",
       "      <td>2</td>\n",
       "      <td>65.216.253.25</td>\n",
       "      <td>c12f3f8f-8fcf-484a-90e1-1ac04db8cdcf</td>\n",
       "      <td>Arlington</td>\n",
       "      <td>222020</td>\n",
       "      <td>Mozilla/5.0 (Macintosh; Intel Mac OS X 10_15_7...</td>\n",
       "      <td>Online Medical Journal</td>\n",
       "      <td>Website</td>\n",
       "      <td>https://www.cancertherapyadvisor.com/home/deci...</td>\n",
       "      <td>Oncology|Transplantation|Anemia|Endocrine|Gene...</td>\n",
       "      <td>Mozilla/5.0</td>\n",
       "      <td>Macintosh; Intel Mac OS X 10_15_7) AppleWebKit...</td>\n",
       "    </tr>\n",
       "    <tr>\n",
       "      <th>2</th>\n",
       "      <td>1003</td>\n",
       "      <td>Desktop</td>\n",
       "      <td>2</td>\n",
       "      <td>66.232.79.22</td>\n",
       "      <td>a698de4b-e200-46dd-b5fb-40402175ae18</td>\n",
       "      <td>New Meadows</td>\n",
       "      <td>836540</td>\n",
       "      <td>Mozilla/5.0 (Macintosh; Intel Mac OS X 10_15_7...</td>\n",
       "      <td>Online Medical Journal</td>\n",
       "      <td>Website</td>\n",
       "      <td>https://www.cancertherapyadvisor.com/home/canc...</td>\n",
       "      <td>Oncology|Endocrine|General|Urology|Cardiovascu...</td>\n",
       "      <td>Mozilla/5.0</td>\n",
       "      <td>Macintosh; Intel Mac OS X 10_15_7) AppleWebKit...</td>\n",
       "    </tr>\n",
       "  </tbody>\n",
       "</table>\n",
       "</div>"
      ],
      "text/plain": [
       "     ID DEVICETYPE  PLATFORM_ID   BIDREQUESTIP  \\\n",
       "0  1001    Desktop            2   170.173.0.22   \n",
       "1  1002    Desktop            2  65.216.253.25   \n",
       "2  1003    Desktop            2   66.232.79.22   \n",
       "\n",
       "                        USERPLATFORMUID     USERCITY USERZIPCODE  \\\n",
       "0  6974dcaa-f932-480e-9fb5-c52e20e1393a     Portland      972060   \n",
       "1  c12f3f8f-8fcf-484a-90e1-1ac04db8cdcf    Arlington      222020   \n",
       "2  a698de4b-e200-46dd-b5fb-40402175ae18  New Meadows      836540   \n",
       "\n",
       "                                           USERAGENT            PLATFORMTYPE  \\\n",
       "0  Mozilla/5.0 (Windows NT 10.0; Win64; x64) Appl...  Online Medical Journal   \n",
       "1  Mozilla/5.0 (Macintosh; Intel Mac OS X 10_15_7...  Online Medical Journal   \n",
       "2  Mozilla/5.0 (Macintosh; Intel Mac OS X 10_15_7...  Online Medical Journal   \n",
       "\n",
       "  CHANNELTYPE                                                URL  \\\n",
       "0     Website  https://www.cancertherapyadvisor.com/home/canc...   \n",
       "1     Website  https://www.cancertherapyadvisor.com/home/deci...   \n",
       "2     Website  https://www.cancertherapyadvisor.com/home/canc...   \n",
       "\n",
       "                                            KEYWORDS      BROWSER  \\\n",
       "0  Oncology|Endocrine|General|Urology|Cardiovascu...  Mozilla/5.0   \n",
       "1  Oncology|Transplantation|Anemia|Endocrine|Gene...  Mozilla/5.0   \n",
       "2  Oncology|Endocrine|General|Urology|Cardiovascu...  Mozilla/5.0   \n",
       "\n",
       "                                                  OS  \n",
       "0  Windows NT 10.0; Win64; x64) AppleWebKit/537.3...  \n",
       "1  Macintosh; Intel Mac OS X 10_15_7) AppleWebKit...  \n",
       "2  Macintosh; Intel Mac OS X 10_15_7) AppleWebKit...  "
      ]
     },
     "execution_count": 42,
     "metadata": {},
     "output_type": "execute_result"
    }
   ],
   "source": [
    "X.head(3)"
   ]
  },
  {
   "cell_type": "code",
   "execution_count": 43,
   "metadata": {},
   "outputs": [
    {
     "data": {
      "text/html": [
       "<div>\n",
       "<style scoped>\n",
       "    .dataframe tbody tr th:only-of-type {\n",
       "        vertical-align: middle;\n",
       "    }\n",
       "\n",
       "    .dataframe tbody tr th {\n",
       "        vertical-align: top;\n",
       "    }\n",
       "\n",
       "    .dataframe thead th {\n",
       "        text-align: right;\n",
       "    }\n",
       "</style>\n",
       "<table border=\"1\" class=\"dataframe\">\n",
       "  <thead>\n",
       "    <tr style=\"text-align: right;\">\n",
       "      <th></th>\n",
       "      <th>TAXONOMY</th>\n",
       "      <th>IS_HCP</th>\n",
       "    </tr>\n",
       "  </thead>\n",
       "  <tbody>\n",
       "    <tr>\n",
       "      <th>0</th>\n",
       "      <td>NaN</td>\n",
       "      <td>0</td>\n",
       "    </tr>\n",
       "    <tr>\n",
       "      <th>1</th>\n",
       "      <td>NaN</td>\n",
       "      <td>0</td>\n",
       "    </tr>\n",
       "    <tr>\n",
       "      <th>2</th>\n",
       "      <td>NaN</td>\n",
       "      <td>0</td>\n",
       "    </tr>\n",
       "  </tbody>\n",
       "</table>\n",
       "</div>"
      ],
      "text/plain": [
       "  TAXONOMY  IS_HCP\n",
       "0      NaN       0\n",
       "1      NaN       0\n",
       "2      NaN       0"
      ]
     },
     "execution_count": 43,
     "metadata": {},
     "output_type": "execute_result"
    }
   ],
   "source": [
    "y.head(3)"
   ]
  },
  {
   "cell_type": "code",
   "execution_count": 44,
   "metadata": {},
   "outputs": [
    {
     "data": {
      "text/plain": [
       "pandas.core.frame.DataFrame"
      ]
     },
     "execution_count": 44,
     "metadata": {},
     "output_type": "execute_result"
    }
   ],
   "source": [
    "type(y)"
   ]
  },
  {
   "cell_type": "code",
   "execution_count": 45,
   "metadata": {},
   "outputs": [
    {
     "name": "stderr",
     "output_type": "stream",
     "text": [
      "C:\\Users\\Tedd\\AppData\\Local\\Temp\\ipykernel_28660\\2657052350.py:5: SettingWithCopyWarning: \n",
      "A value is trying to be set on a copy of a slice from a DataFrame.\n",
      "Try using .loc[row_indexer,col_indexer] = value instead\n",
      "\n",
      "See the caveats in the documentation: https://pandas.pydata.org/pandas-docs/stable/user_guide/indexing.html#returning-a-view-versus-a-copy\n",
      "  y['TAXONOMY'] = le.fit_transform(y['TAXONOMY'])\n"
     ]
    }
   ],
   "source": [
    "# encode all the columns\n",
    "from sklearn.preprocessing import LabelEncoder\n",
    "le = LabelEncoder()\n",
    "X = X.apply(le.fit_transform)\n",
    "y['TAXONOMY'] = le.fit_transform(y['TAXONOMY'])"
   ]
  },
  {
   "cell_type": "code",
   "execution_count": 46,
   "metadata": {},
   "outputs": [
    {
     "data": {
      "text/plain": [
       "0    207\n",
       "1    207\n",
       "2    207\n",
       "Name: TAXONOMY, dtype: int32"
      ]
     },
     "execution_count": 46,
     "metadata": {},
     "output_type": "execute_result"
    }
   ],
   "source": [
    "y['TAXONOMY'].head(3)"
   ]
  },
  {
   "cell_type": "code",
   "execution_count": 47,
   "metadata": {},
   "outputs": [
    {
     "data": {
      "text/plain": [
       "14"
      ]
     },
     "execution_count": 47,
     "metadata": {},
     "output_type": "execute_result"
    }
   ],
   "source": [
    "X.dtypes.count()"
   ]
  },
  {
   "cell_type": "code",
   "execution_count": 48,
   "metadata": {},
   "outputs": [
    {
     "data": {
      "text/html": [
       "<div>\n",
       "<style scoped>\n",
       "    .dataframe tbody tr th:only-of-type {\n",
       "        vertical-align: middle;\n",
       "    }\n",
       "\n",
       "    .dataframe tbody tr th {\n",
       "        vertical-align: top;\n",
       "    }\n",
       "\n",
       "    .dataframe thead th {\n",
       "        text-align: right;\n",
       "    }\n",
       "</style>\n",
       "<table border=\"1\" class=\"dataframe\">\n",
       "  <thead>\n",
       "    <tr style=\"text-align: right;\">\n",
       "      <th></th>\n",
       "      <th>ID</th>\n",
       "      <th>DEVICETYPE</th>\n",
       "      <th>PLATFORM_ID</th>\n",
       "      <th>BIDREQUESTIP</th>\n",
       "      <th>USERPLATFORMUID</th>\n",
       "      <th>USERCITY</th>\n",
       "      <th>USERZIPCODE</th>\n",
       "      <th>USERAGENT</th>\n",
       "      <th>PLATFORMTYPE</th>\n",
       "      <th>CHANNELTYPE</th>\n",
       "      <th>URL</th>\n",
       "      <th>KEYWORDS</th>\n",
       "      <th>BROWSER</th>\n",
       "      <th>OS</th>\n",
       "    </tr>\n",
       "  </thead>\n",
       "  <tbody>\n",
       "    <tr>\n",
       "      <th>0</th>\n",
       "      <td>110</td>\n",
       "      <td>0</td>\n",
       "      <td>1</td>\n",
       "      <td>6580</td>\n",
       "      <td>22183</td>\n",
       "      <td>3177</td>\n",
       "      <td>10914</td>\n",
       "      <td>2857</td>\n",
       "      <td>3</td>\n",
       "      <td>0</td>\n",
       "      <td>666</td>\n",
       "      <td>245</td>\n",
       "      <td>10</td>\n",
       "      <td>2857</td>\n",
       "    </tr>\n",
       "    <tr>\n",
       "      <th>1</th>\n",
       "      <td>221</td>\n",
       "      <td>0</td>\n",
       "      <td>1</td>\n",
       "      <td>19253</td>\n",
       "      <td>40576</td>\n",
       "      <td>130</td>\n",
       "      <td>1901</td>\n",
       "      <td>2672</td>\n",
       "      <td>3</td>\n",
       "      <td>0</td>\n",
       "      <td>708</td>\n",
       "      <td>597</td>\n",
       "      <td>10</td>\n",
       "      <td>2671</td>\n",
       "    </tr>\n",
       "    <tr>\n",
       "      <th>2</th>\n",
       "      <td>332</td>\n",
       "      <td>0</td>\n",
       "      <td>1</td>\n",
       "      <td>19704</td>\n",
       "      <td>34968</td>\n",
       "      <td>2701</td>\n",
       "      <td>9157</td>\n",
       "      <td>2672</td>\n",
       "      <td>3</td>\n",
       "      <td>0</td>\n",
       "      <td>666</td>\n",
       "      <td>245</td>\n",
       "      <td>10</td>\n",
       "      <td>2671</td>\n",
       "    </tr>\n",
       "    <tr>\n",
       "      <th>3</th>\n",
       "      <td>443</td>\n",
       "      <td>0</td>\n",
       "      <td>2</td>\n",
       "      <td>4193</td>\n",
       "      <td>14676</td>\n",
       "      <td>4420</td>\n",
       "      <td>1960</td>\n",
       "      <td>2945</td>\n",
       "      <td>3</td>\n",
       "      <td>0</td>\n",
       "      <td>327</td>\n",
       "      <td>231</td>\n",
       "      <td>10</td>\n",
       "      <td>2945</td>\n",
       "    </tr>\n",
       "    <tr>\n",
       "      <th>4</th>\n",
       "      <td>554</td>\n",
       "      <td>1</td>\n",
       "      <td>6</td>\n",
       "      <td>10056</td>\n",
       "      <td>33844</td>\n",
       "      <td>1767</td>\n",
       "      <td>8360</td>\n",
       "      <td>4049</td>\n",
       "      <td>3</td>\n",
       "      <td>0</td>\n",
       "      <td>1631</td>\n",
       "      <td>923</td>\n",
       "      <td>10</td>\n",
       "      <td>4057</td>\n",
       "    </tr>\n",
       "  </tbody>\n",
       "</table>\n",
       "</div>"
      ],
      "text/plain": [
       "    ID  DEVICETYPE  PLATFORM_ID  BIDREQUESTIP  USERPLATFORMUID  USERCITY  \\\n",
       "0  110           0            1          6580            22183      3177   \n",
       "1  221           0            1         19253            40576       130   \n",
       "2  332           0            1         19704            34968      2701   \n",
       "3  443           0            2          4193            14676      4420   \n",
       "4  554           1            6         10056            33844      1767   \n",
       "\n",
       "   USERZIPCODE  USERAGENT  PLATFORMTYPE  CHANNELTYPE   URL  KEYWORDS  BROWSER  \\\n",
       "0        10914       2857             3            0   666       245       10   \n",
       "1         1901       2672             3            0   708       597       10   \n",
       "2         9157       2672             3            0   666       245       10   \n",
       "3         1960       2945             3            0   327       231       10   \n",
       "4         8360       4049             3            0  1631       923       10   \n",
       "\n",
       "     OS  \n",
       "0  2857  \n",
       "1  2671  \n",
       "2  2671  \n",
       "3  2945  \n",
       "4  4057  "
      ]
     },
     "execution_count": 48,
     "metadata": {},
     "output_type": "execute_result"
    }
   ],
   "source": [
    "X.head()"
   ]
  },
  {
   "cell_type": "code",
   "execution_count": 49,
   "metadata": {},
   "outputs": [
    {
     "data": {
      "text/plain": [
       "14"
      ]
     },
     "execution_count": 49,
     "metadata": {},
     "output_type": "execute_result"
    }
   ],
   "source": [
    "X.dtypes.count()"
   ]
  },
  {
   "cell_type": "code",
   "execution_count": 52,
   "metadata": {},
   "outputs": [
    {
     "name": "stdout",
     "output_type": "stream",
     "text": [
      "Epoch 1/10\n",
      "11394/11394 [==============================] - 21s 2ms/step - loss: -10975310774272.0000 - accuracy: 0.9998\n",
      "Epoch 2/10\n",
      "11394/11394 [==============================] - 19s 2ms/step - loss: -113952411353088.0000 - accuracy: 1.0000\n",
      "Epoch 3/10\n",
      "11394/11394 [==============================] - 21s 2ms/step - loss: -410734064304128.0000 - accuracy: 1.0000\n",
      "Epoch 4/10\n",
      "11394/11394 [==============================] - 20s 2ms/step - loss: -995034400817152.0000 - accuracy: 1.0000\n",
      "Epoch 5/10\n",
      "11394/11394 [==============================] - 19s 2ms/step - loss: -1959203824467968.0000 - accuracy: 1.0000\n",
      "Epoch 6/10\n",
      "11394/11394 [==============================] - 19s 2ms/step - loss: -3392834648408064.0000 - accuracy: 1.0000\n",
      "Epoch 7/10\n",
      "11394/11394 [==============================] - 19s 2ms/step - loss: -5385891673538560.0000 - accuracy: 1.0000\n",
      "Epoch 8/10\n",
      "11394/11394 [==============================] - 20s 2ms/step - loss: -8029472498384896.0000 - accuracy: 1.0000\n",
      "Epoch 9/10\n",
      "11394/11394 [==============================] - 19s 2ms/step - loss: -11415941468389376.0000 - accuracy: 1.0000\n",
      "Epoch 10/10\n",
      "11394/11394 [==============================] - 20s 2ms/step - loss: -15627101067542528.0000 - accuracy: 1.0000\n",
      "3561/3561 [==============================] - 5s 1ms/step - loss: -18032937735815168.0000 - accuracy: 1.0000\n",
      "Accuracy: 100.00\n",
      "892/892 [==============================] - 1s 1ms/step\n"
     ]
    }
   ],
   "source": [
    "# model\n",
    "model = Sequential()\n",
    "model.add(Dense(64, input_dim=14, activation='relu'))\n",
    "# model.add(Dropout(0.5))\n",
    "model.add(Dense(32, activation='relu'))\n",
    "model.add(Dense(2, activation='sigmoid'))\n",
    "\n",
    "# Compile the model\n",
    "model.compile(loss='binary_crossentropy', optimizer='adam', metrics=['accuracy'])\n",
    "\n",
    "# Fit the model\n",
    "history = model.fit(X, y, epochs=10, batch_size=10)\n",
    "\n",
    "# Evaluate the model\n",
    "loss, accuracy = model.evaluate(X, y)\n",
    "\n",
    "print('Accuracy: %.2f' % (accuracy*100))\n",
    "\n",
    "# Predict the target variable\n",
    "y_pred = model.predict(test_data)\n",
    "\n",
    "# Save the model\n",
    "model.save('model.h5')"
   ]
  },
  {
   "cell_type": "code",
   "execution_count": 53,
   "metadata": {},
   "outputs": [
    {
     "data": {
      "text/plain": [
       "array([[1., 0.],\n",
       "       [1., 0.],\n",
       "       [1., 0.],\n",
       "       ...,\n",
       "       [1., 0.],\n",
       "       [1., 0.],\n",
       "       [1., 0.]], dtype=float32)"
      ]
     },
     "execution_count": 53,
     "metadata": {},
     "output_type": "execute_result"
    }
   ],
   "source": [
    "y_pred"
   ]
  },
  {
   "cell_type": "code",
   "execution_count": 69,
   "metadata": {},
   "outputs": [
    {
     "data": {
      "text/html": [
       "<div>\n",
       "<style scoped>\n",
       "    .dataframe tbody tr th:only-of-type {\n",
       "        vertical-align: middle;\n",
       "    }\n",
       "\n",
       "    .dataframe tbody tr th {\n",
       "        vertical-align: top;\n",
       "    }\n",
       "\n",
       "    .dataframe thead th {\n",
       "        text-align: right;\n",
       "    }\n",
       "</style>\n",
       "<table border=\"1\" class=\"dataframe\">\n",
       "  <thead>\n",
       "    <tr style=\"text-align: right;\">\n",
       "      <th></th>\n",
       "      <th>TAXONOMY</th>\n",
       "      <th>IS_HCP</th>\n",
       "    </tr>\n",
       "  </thead>\n",
       "  <tbody>\n",
       "    <tr>\n",
       "      <th>0</th>\n",
       "      <td>103TC0700X</td>\n",
       "      <td>0.0</td>\n",
       "    </tr>\n",
       "    <tr>\n",
       "      <th>1</th>\n",
       "      <td>103TC0700X</td>\n",
       "      <td>0.0</td>\n",
       "    </tr>\n",
       "    <tr>\n",
       "      <th>2</th>\n",
       "      <td>103TC0700X</td>\n",
       "      <td>0.0</td>\n",
       "    </tr>\n",
       "  </tbody>\n",
       "</table>\n",
       "</div>"
      ],
      "text/plain": [
       "     TAXONOMY  IS_HCP\n",
       "0  103TC0700X     0.0\n",
       "1  103TC0700X     0.0\n",
       "2  103TC0700X     0.0"
      ]
     },
     "execution_count": 69,
     "metadata": {},
     "output_type": "execute_result"
    }
   ],
   "source": [
    "# Convert the predicted values to DataFrame\n",
    "y_pred = pd.DataFrame(y_pred, columns=['TAXONOMY','IS_HCP'], index=test_data.index)\n",
    "y_pred.head(3)"
   ]
  },
  {
   "cell_type": "code",
   "execution_count": 57,
   "metadata": {},
   "outputs": [],
   "source": [
    "y_pred['TAXONOMY'] = le.inverse_transform(y_pred['TAXONOMY'].astype(int))"
   ]
  },
  {
   "cell_type": "code",
   "execution_count": 67,
   "metadata": {},
   "outputs": [
    {
     "ename": "KeyError",
     "evalue": "'ID'",
     "output_type": "error",
     "traceback": [
      "\u001b[1;31m---------------------------------------------------------------------------\u001b[0m",
      "\u001b[1;31mKeyError\u001b[0m                                  Traceback (most recent call last)",
      "File \u001b[1;32mc:\\Users\\Tedd\\AppData\\Local\\Programs\\Python\\Python39\\lib\\site-packages\\pandas\\core\\indexes\\base.py:3802\u001b[0m, in \u001b[0;36mIndex.get_loc\u001b[1;34m(self, key, method, tolerance)\u001b[0m\n\u001b[0;32m   3801\u001b[0m \u001b[39mtry\u001b[39;00m:\n\u001b[1;32m-> 3802\u001b[0m     \u001b[39mreturn\u001b[39;00m \u001b[39mself\u001b[39;49m\u001b[39m.\u001b[39;49m_engine\u001b[39m.\u001b[39;49mget_loc(casted_key)\n\u001b[0;32m   3803\u001b[0m \u001b[39mexcept\u001b[39;00m \u001b[39mKeyError\u001b[39;00m \u001b[39mas\u001b[39;00m err:\n",
      "File \u001b[1;32mc:\\Users\\Tedd\\AppData\\Local\\Programs\\Python\\Python39\\lib\\site-packages\\pandas\\_libs\\index.pyx:138\u001b[0m, in \u001b[0;36mpandas._libs.index.IndexEngine.get_loc\u001b[1;34m()\u001b[0m\n",
      "File \u001b[1;32mc:\\Users\\Tedd\\AppData\\Local\\Programs\\Python\\Python39\\lib\\site-packages\\pandas\\_libs\\index.pyx:165\u001b[0m, in \u001b[0;36mpandas._libs.index.IndexEngine.get_loc\u001b[1;34m()\u001b[0m\n",
      "File \u001b[1;32mpandas\\_libs\\hashtable_class_helper.pxi:5745\u001b[0m, in \u001b[0;36mpandas._libs.hashtable.PyObjectHashTable.get_item\u001b[1;34m()\u001b[0m\n",
      "File \u001b[1;32mpandas\\_libs\\hashtable_class_helper.pxi:5753\u001b[0m, in \u001b[0;36mpandas._libs.hashtable.PyObjectHashTable.get_item\u001b[1;34m()\u001b[0m\n",
      "\u001b[1;31mKeyError\u001b[0m: 'ID'",
      "\nThe above exception was the direct cause of the following exception:\n",
      "\u001b[1;31mKeyError\u001b[0m                                  Traceback (most recent call last)",
      "Cell \u001b[1;32mIn[67], line 4\u001b[0m\n\u001b[0;32m      1\u001b[0m submission_df \u001b[39m=\u001b[39m pd\u001b[39m.\u001b[39mDataFrame(columns\u001b[39m=\u001b[39m[\u001b[39m'\u001b[39m\u001b[39mID\u001b[39m\u001b[39m'\u001b[39m, \u001b[39m'\u001b[39m\u001b[39mTAXONOMY\u001b[39m\u001b[39m'\u001b[39m, \u001b[39m'\u001b[39m\u001b[39mIS_HCP\u001b[39m\u001b[39m'\u001b[39m])\n\u001b[0;32m      3\u001b[0m \u001b[39m# Populate the submission DataFrame\u001b[39;00m\n\u001b[1;32m----> 4\u001b[0m submission_df[\u001b[39m'\u001b[39m\u001b[39mID\u001b[39m\u001b[39m'\u001b[39m] \u001b[39m=\u001b[39m y_pred[\u001b[39m'\u001b[39;49m\u001b[39mID\u001b[39;49m\u001b[39m'\u001b[39;49m]\n\u001b[0;32m      5\u001b[0m submission_df[\u001b[39m'\u001b[39m\u001b[39mTAXONOMY\u001b[39m\u001b[39m'\u001b[39m] \u001b[39m=\u001b[39m y_pred[\u001b[39m'\u001b[39m\u001b[39mTaxonomy\u001b[39m\u001b[39m'\u001b[39m]\n\u001b[0;32m      6\u001b[0m submission_df[\u001b[39m'\u001b[39m\u001b[39mIS_HCP\u001b[39m\u001b[39m'\u001b[39m] \u001b[39m=\u001b[39m y_pred[\u001b[39m'\u001b[39m\u001b[39mIS_HCP\u001b[39m\u001b[39m'\u001b[39m]\n",
      "File \u001b[1;32mc:\\Users\\Tedd\\AppData\\Local\\Programs\\Python\\Python39\\lib\\site-packages\\pandas\\core\\frame.py:3807\u001b[0m, in \u001b[0;36mDataFrame.__getitem__\u001b[1;34m(self, key)\u001b[0m\n\u001b[0;32m   3805\u001b[0m \u001b[39mif\u001b[39;00m \u001b[39mself\u001b[39m\u001b[39m.\u001b[39mcolumns\u001b[39m.\u001b[39mnlevels \u001b[39m>\u001b[39m \u001b[39m1\u001b[39m:\n\u001b[0;32m   3806\u001b[0m     \u001b[39mreturn\u001b[39;00m \u001b[39mself\u001b[39m\u001b[39m.\u001b[39m_getitem_multilevel(key)\n\u001b[1;32m-> 3807\u001b[0m indexer \u001b[39m=\u001b[39m \u001b[39mself\u001b[39;49m\u001b[39m.\u001b[39;49mcolumns\u001b[39m.\u001b[39;49mget_loc(key)\n\u001b[0;32m   3808\u001b[0m \u001b[39mif\u001b[39;00m is_integer(indexer):\n\u001b[0;32m   3809\u001b[0m     indexer \u001b[39m=\u001b[39m [indexer]\n",
      "File \u001b[1;32mc:\\Users\\Tedd\\AppData\\Local\\Programs\\Python\\Python39\\lib\\site-packages\\pandas\\core\\indexes\\base.py:3804\u001b[0m, in \u001b[0;36mIndex.get_loc\u001b[1;34m(self, key, method, tolerance)\u001b[0m\n\u001b[0;32m   3802\u001b[0m     \u001b[39mreturn\u001b[39;00m \u001b[39mself\u001b[39m\u001b[39m.\u001b[39m_engine\u001b[39m.\u001b[39mget_loc(casted_key)\n\u001b[0;32m   3803\u001b[0m \u001b[39mexcept\u001b[39;00m \u001b[39mKeyError\u001b[39;00m \u001b[39mas\u001b[39;00m err:\n\u001b[1;32m-> 3804\u001b[0m     \u001b[39mraise\u001b[39;00m \u001b[39mKeyError\u001b[39;00m(key) \u001b[39mfrom\u001b[39;00m \u001b[39merr\u001b[39;00m\n\u001b[0;32m   3805\u001b[0m \u001b[39mexcept\u001b[39;00m \u001b[39mTypeError\u001b[39;00m:\n\u001b[0;32m   3806\u001b[0m     \u001b[39m# If we have a listlike key, _check_indexing_error will raise\u001b[39;00m\n\u001b[0;32m   3807\u001b[0m     \u001b[39m#  InvalidIndexError. Otherwise we fall through and re-raise\u001b[39;00m\n\u001b[0;32m   3808\u001b[0m     \u001b[39m#  the TypeError.\u001b[39;00m\n\u001b[0;32m   3809\u001b[0m     \u001b[39mself\u001b[39m\u001b[39m.\u001b[39m_check_indexing_error(key)\n",
      "\u001b[1;31mKeyError\u001b[0m: 'ID'"
     ]
    }
   ],
   "source": [
    "submission_df = pd.DataFrame(columns=['ID', 'TAXONOMY', 'IS_HCP'])\n",
    "\n",
    "# Populate the submission DataFrame\n",
    "submission_df['ID'] = y_pred['ID']\n",
    "submission_df['TAXONOMY'] = y_pred['TAXONOMY']\n",
    "submission_df['IS_HCP'] = y_pred['IS_HCP']\n",
    "\n",
    "# Export the submission DataFrame to a CSV file\n",
    "submission_df.to_csv('submission.csv', index=False)"
   ]
  },
  {
   "cell_type": "code",
   "execution_count": null,
   "metadata": {},
   "outputs": [],
   "source": []
  }
 ],
 "metadata": {
  "kernelspec": {
   "display_name": "Python 3",
   "language": "python",
   "name": "python3"
  },
  "language_info": {
   "codemirror_mode": {
    "name": "ipython",
    "version": 3
   },
   "file_extension": ".py",
   "mimetype": "text/x-python",
   "name": "python",
   "nbconvert_exporter": "python",
   "pygments_lexer": "ipython3",
   "version": "3.9.13"
  },
  "orig_nbformat": 4
 },
 "nbformat": 4,
 "nbformat_minor": 2
}
