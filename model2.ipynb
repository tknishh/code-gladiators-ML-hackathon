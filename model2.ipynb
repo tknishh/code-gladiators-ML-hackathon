{
 "cells": [
  {
   "cell_type": "code",
   "execution_count": 1,
   "metadata": {},
   "outputs": [],
   "source": [
    "import pandas as pd\n",
    "import numpy as np\n",
    "import tensorflow as tf\n",
    "from sklearn.model_selection import train_test_split\n",
    "from sklearn.preprocessing import LabelEncoder, MinMaxScaler\n",
    "from keras.models import Sequential\n",
    "from keras.layers import Dense, Dropout\n",
    "from keras.callbacks import EarlyStopping"
   ]
  },
  {
   "cell_type": "code",
   "execution_count": 2,
   "metadata": {},
   "outputs": [
    {
     "data": {
      "text/html": [
       "<div>\n",
       "<style scoped>\n",
       "    .dataframe tbody tr th:only-of-type {\n",
       "        vertical-align: middle;\n",
       "    }\n",
       "\n",
       "    .dataframe tbody tr th {\n",
       "        vertical-align: top;\n",
       "    }\n",
       "\n",
       "    .dataframe thead th {\n",
       "        text-align: right;\n",
       "    }\n",
       "</style>\n",
       "<table border=\"1\" class=\"dataframe\">\n",
       "  <thead>\n",
       "    <tr style=\"text-align: right;\">\n",
       "      <th></th>\n",
       "      <th>ID</th>\n",
       "      <th>DEVICETYPE</th>\n",
       "      <th>PLATFORM_ID</th>\n",
       "      <th>BIDREQUESTIP</th>\n",
       "      <th>USERPLATFORMUID</th>\n",
       "      <th>USERCITY</th>\n",
       "      <th>USERZIPCODE</th>\n",
       "      <th>USERAGENT</th>\n",
       "      <th>PLATFORMTYPE</th>\n",
       "      <th>CHANNELTYPE</th>\n",
       "      <th>URL</th>\n",
       "      <th>KEYWORDS</th>\n",
       "      <th>TAXONOMY</th>\n",
       "      <th>IS_HCP</th>\n",
       "    </tr>\n",
       "  </thead>\n",
       "  <tbody>\n",
       "    <tr>\n",
       "      <th>0</th>\n",
       "      <td>1001</td>\n",
       "      <td>Desktop</td>\n",
       "      <td>2</td>\n",
       "      <td>170.173.0.22</td>\n",
       "      <td>6974dcaa-f932-480e-9fb5-c52e20e1393a</td>\n",
       "      <td>Portland</td>\n",
       "      <td>97206.0</td>\n",
       "      <td>Mozilla/5.0 (Windows NT 10.0; Win64; x64) Appl...</td>\n",
       "      <td>Online Medical Journal</td>\n",
       "      <td>Website</td>\n",
       "      <td>https://www.cancertherapyadvisor.com/home/canc...</td>\n",
       "      <td>General|Endocrine|False|Medicine|Surgery|Urolo...</td>\n",
       "      <td>NaN</td>\n",
       "      <td>0.0</td>\n",
       "    </tr>\n",
       "    <tr>\n",
       "      <th>1</th>\n",
       "      <td>1002</td>\n",
       "      <td>Desktop</td>\n",
       "      <td>2</td>\n",
       "      <td>65.216.253.25</td>\n",
       "      <td>c12f3f8f-8fcf-484a-90e1-1ac04db8cdcf</td>\n",
       "      <td>Arlington</td>\n",
       "      <td>22202.0</td>\n",
       "      <td>Mozilla/5.0 (Macintosh; Intel Mac OS X 10_15_7...</td>\n",
       "      <td>Online Medical Journal</td>\n",
       "      <td>Website</td>\n",
       "      <td>https://www.cancertherapyadvisor.com/home/deci...</td>\n",
       "      <td>Bone Marrow|Radiography|Chronic|Oncology|Psych...</td>\n",
       "      <td>NaN</td>\n",
       "      <td>0.0</td>\n",
       "    </tr>\n",
       "    <tr>\n",
       "      <th>2</th>\n",
       "      <td>1003</td>\n",
       "      <td>Desktop</td>\n",
       "      <td>2</td>\n",
       "      <td>66.232.79.22</td>\n",
       "      <td>a698de4b-e200-46dd-b5fb-40402175ae18</td>\n",
       "      <td>New Meadows</td>\n",
       "      <td>83654.0</td>\n",
       "      <td>Mozilla/5.0 (Macintosh; Intel Mac OS X 10_15_7...</td>\n",
       "      <td>Online Medical Journal</td>\n",
       "      <td>Website</td>\n",
       "      <td>https://www.cancertherapyadvisor.com/home/canc...</td>\n",
       "      <td>General|Endocrine|False|Medicine|Surgery|Urolo...</td>\n",
       "      <td>NaN</td>\n",
       "      <td>0.0</td>\n",
       "    </tr>\n",
       "    <tr>\n",
       "      <th>3</th>\n",
       "      <td>1004</td>\n",
       "      <td>Desktop</td>\n",
       "      <td>3</td>\n",
       "      <td>137.54.125.246</td>\n",
       "      <td>45967533-75c8-4fbd-a00c-e6ff20447aaa</td>\n",
       "      <td>NaN</td>\n",
       "      <td>229114624.0</td>\n",
       "      <td>Mozilla/5.0 (Windows NT 10.0; Win64; x64) Appl...</td>\n",
       "      <td>Online Medical Journal</td>\n",
       "      <td>Website</td>\n",
       "      <td>https://globalrph.com/medcalcs/warfarin-mainte...</td>\n",
       "      <td>Dental|Total|Clinical|Pharmacology|Physicians|...</td>\n",
       "      <td>2084P0800X</td>\n",
       "      <td>1.0</td>\n",
       "    </tr>\n",
       "    <tr>\n",
       "      <th>4</th>\n",
       "      <td>1005</td>\n",
       "      <td>Mobile</td>\n",
       "      <td>7</td>\n",
       "      <td>174.202.231.99</td>\n",
       "      <td>a17e25be-532d-4cf5-b916-9308c8c3961f</td>\n",
       "      <td>Houston</td>\n",
       "      <td>77008.0</td>\n",
       "      <td>Mozilla/5.0 (iPhone; CPU iPhone OS 16_1_1 like...</td>\n",
       "      <td>Online Medical Journal</td>\n",
       "      <td>Website</td>\n",
       "      <td>https://www.cureus.com/articles/58184-a-review...</td>\n",
       "      <td>Critical Care|Emergency Medicine|General Pract...</td>\n",
       "      <td>NaN</td>\n",
       "      <td>0.0</td>\n",
       "    </tr>\n",
       "  </tbody>\n",
       "</table>\n",
       "</div>"
      ],
      "text/plain": [
       "     ID DEVICETYPE  PLATFORM_ID    BIDREQUESTIP  \\\n",
       "0  1001    Desktop            2    170.173.0.22   \n",
       "1  1002    Desktop            2   65.216.253.25   \n",
       "2  1003    Desktop            2    66.232.79.22   \n",
       "3  1004    Desktop            3  137.54.125.246   \n",
       "4  1005     Mobile            7  174.202.231.99   \n",
       "\n",
       "                        USERPLATFORMUID     USERCITY  USERZIPCODE  \\\n",
       "0  6974dcaa-f932-480e-9fb5-c52e20e1393a     Portland      97206.0   \n",
       "1  c12f3f8f-8fcf-484a-90e1-1ac04db8cdcf    Arlington      22202.0   \n",
       "2  a698de4b-e200-46dd-b5fb-40402175ae18  New Meadows      83654.0   \n",
       "3  45967533-75c8-4fbd-a00c-e6ff20447aaa          NaN  229114624.0   \n",
       "4  a17e25be-532d-4cf5-b916-9308c8c3961f      Houston      77008.0   \n",
       "\n",
       "                                           USERAGENT            PLATFORMTYPE  \\\n",
       "0  Mozilla/5.0 (Windows NT 10.0; Win64; x64) Appl...  Online Medical Journal   \n",
       "1  Mozilla/5.0 (Macintosh; Intel Mac OS X 10_15_7...  Online Medical Journal   \n",
       "2  Mozilla/5.0 (Macintosh; Intel Mac OS X 10_15_7...  Online Medical Journal   \n",
       "3  Mozilla/5.0 (Windows NT 10.0; Win64; x64) Appl...  Online Medical Journal   \n",
       "4  Mozilla/5.0 (iPhone; CPU iPhone OS 16_1_1 like...  Online Medical Journal   \n",
       "\n",
       "  CHANNELTYPE                                                URL  \\\n",
       "0     Website  https://www.cancertherapyadvisor.com/home/canc...   \n",
       "1     Website  https://www.cancertherapyadvisor.com/home/deci...   \n",
       "2     Website  https://www.cancertherapyadvisor.com/home/canc...   \n",
       "3     Website  https://globalrph.com/medcalcs/warfarin-mainte...   \n",
       "4     Website  https://www.cureus.com/articles/58184-a-review...   \n",
       "\n",
       "                                            KEYWORDS    TAXONOMY  IS_HCP  \n",
       "0  General|Endocrine|False|Medicine|Surgery|Urolo...         NaN     0.0  \n",
       "1  Bone Marrow|Radiography|Chronic|Oncology|Psych...         NaN     0.0  \n",
       "2  General|Endocrine|False|Medicine|Surgery|Urolo...         NaN     0.0  \n",
       "3  Dental|Total|Clinical|Pharmacology|Physicians|...  2084P0800X     1.0  \n",
       "4  Critical Care|Emergency Medicine|General Pract...         NaN     0.0  "
      ]
     },
     "execution_count": 2,
     "metadata": {},
     "output_type": "execute_result"
    }
   ],
   "source": [
    "# Read the train.csv into a DataFrame\n",
    "data = pd.read_csv('data\\Doceree-HCP_Train.csv', encoding='latin-1')\n",
    "data.head()\n"
   ]
  },
  {
   "cell_type": "code",
   "execution_count": 3,
   "metadata": {},
   "outputs": [
    {
     "name": "stderr",
     "output_type": "stream",
     "text": [
      "C:\\Users\\VANI SETH\\AppData\\Local\\Temp\\ipykernel_12316\\1204343258.py:7: UserWarning: This pattern is interpreted as a regular expression, and has match groups. To actually get the groups, use str.extract.\n",
      "  data['BIDREQUESTIP'] = data['BIDREQUESTIP'].astype(str).apply(lambda x: x if pd.Series(x).str.contains('^(\\d{1,3}\\.){3}\\d{1,3}$').all() else None)\n"
     ]
    },
    {
     "name": "stdout",
     "output_type": "stream",
     "text": [
      "     ID DEVICETYPE  PLATFORM_ID   BIDREQUESTIP  \\\n",
      "0  1001    Desktop            2   170.173.0.22   \n",
      "1  1002    Desktop            2  65.216.253.25   \n",
      "2  1003    Desktop            2   66.232.79.22   \n",
      "\n",
      "                        USERPLATFORMUID     USERCITY USERZIPCODE  \\\n",
      "0  6974dcaa-f932-480e-9fb5-c52e20e1393a     Portland     97206.0   \n",
      "1  c12f3f8f-8fcf-484a-90e1-1ac04db8cdcf    Arlington     22202.0   \n",
      "2  a698de4b-e200-46dd-b5fb-40402175ae18  New Meadows     83654.0   \n",
      "\n",
      "                                           USERAGENT            PLATFORMTYPE  \\\n",
      "0  Mozilla/5.0 (Windows NT 10.0; Win64; x64) Appl...  Online Medical Journal   \n",
      "1  Mozilla/5.0 (Macintosh; Intel Mac OS X 10_15_7...  Online Medical Journal   \n",
      "2  Mozilla/5.0 (Macintosh; Intel Mac OS X 10_15_7...  Online Medical Journal   \n",
      "\n",
      "  CHANNELTYPE                                                URL  \\\n",
      "0     Website  https://www.cancertherapyadvisor.com/home/canc...   \n",
      "1     Website  https://www.cancertherapyadvisor.com/home/deci...   \n",
      "2     Website  https://www.cancertherapyadvisor.com/home/canc...   \n",
      "\n",
      "                                            KEYWORDS TAXONOMY  IS_HCP  \\\n",
      "0  Oncology|Chronic|Rheumatology|Dermatology|Phys...      NaN       0   \n",
      "1  Oncology|Chronic|Hereditary|Rheumatology|Autoi...      NaN       0   \n",
      "2  Oncology|Chronic|Rheumatology|Dermatology|Phys...      NaN       0   \n",
      "\n",
      "       BROWSER                                                 OS  \n",
      "0  Mozilla/5.0  Windows NT 10.0; Win64; x64) AppleWebKit/537.3...  \n",
      "1  Mozilla/5.0  Macintosh; Intel Mac OS X 10_15_7) AppleWebKit...  \n",
      "2  Mozilla/5.0  Macintosh; Intel Mac OS X 10_15_7) AppleWebKit...  \n"
     ]
    }
   ],
   "source": [
    "data = data.apply(lambda x: x.str.strip() if x.dtype == \"object\" else x)\n",
    "\n",
    "data['ID'] = data['ID'].astype(str)\n",
    "\n",
    "data = data.dropna(subset=['DEVICETYPE', 'PLATFORM_ID'])\n",
    "\n",
    "data['BIDREQUESTIP'] = data['BIDREQUESTIP'].astype(str).apply(lambda x: x if pd.Series(x).str.contains('^(\\d{1,3}\\.){3}\\d{1,3}$').all() else None)\n",
    "\n",
    "data['USERZIPCODE'] = data['USERZIPCODE'].astype(str).str.replace(r'\\D+', '')\n",
    "\n",
    "data[['BROWSER', 'OS']] = data['USERAGENT'].astype(str).str.split('(', n=1, expand=True)\n",
    "\n",
    "data['BROWSER'] = data['BROWSER'].astype(str).str.strip()\n",
    "\n",
    "data['OS'] = data['OS'].astype(str).str.rstrip(')')\n",
    "\n",
    "data['KEYWORDS'] = data['KEYWORDS'].apply(lambda x: '|'.join(set(x.split('|'))) if pd.notnull(x) else x)\n",
    "\n",
    "data['IS_HCP'].fillna(0, inplace=True)\n",
    "\n",
    "data['IS_HCP'] = data['IS_HCP'].astype(int)\n",
    "\n",
    "print(data.head(3))"
   ]
  },
  {
   "cell_type": "code",
   "execution_count": 4,
   "metadata": {},
   "outputs": [
    {
     "data": {
      "text/plain": [
       "16"
      ]
     },
     "execution_count": 4,
     "metadata": {},
     "output_type": "execute_result"
    }
   ],
   "source": [
    "data.dtypes.count()"
   ]
  },
  {
   "cell_type": "code",
   "execution_count": 5,
   "metadata": {},
   "outputs": [
    {
     "name": "stderr",
     "output_type": "stream",
     "text": [
      "C:\\Users\\VANI SETH\\AppData\\Local\\Temp\\ipykernel_12316\\1607418820.py:14: UserWarning: This pattern is interpreted as a regular expression, and has match groups. To actually get the groups, use str.extract.\n",
      "  test_data['BIDREQUESTIP'] = test_data['BIDREQUESTIP'].astype(str).apply(lambda x: x if pd.Series(x).str.contains('^(\\d{1,3}\\.){3}\\d{1,3}$').all() else None)\n"
     ]
    },
    {
     "name": "stdout",
     "output_type": "stream",
     "text": [
      "       ID DEVICETYPE  PLATFORM_ID     BIDREQUESTIP  \\\n",
      "0  115501    Desktop          2.0   75.189.231.103   \n",
      "1  115502     Mobile          2.0    24.101.33.158   \n",
      "2  115503    Desktop          2.0  172.118.216.142   \n",
      "\n",
      "                        USERPLATFORMUID       USERCITY USERZIPCODE  \\\n",
      "0  0d5041ff-f0b6-4d1a-9ad7-0a29f7d485b4   Fayetteville     28305.0   \n",
      "1  c8396dd0-969f-4d99-a40b-b7bb1f516154  Conneaut Lake     16316.0   \n",
      "2  3c97a081-6518-43f8-9f26-369759cfb471         Covina     91724.0   \n",
      "\n",
      "                                           USERAGENT            PLATFORMTYPE  \\\n",
      "0  Mozilla/5.0 (Macintosh; Intel Mac OS X 10_11_6...  Online Medical Journal   \n",
      "1  Mozilla/5.0 (iPhone; CPU iPhone OS 15_6_1 like...  Online Medical Journal   \n",
      "2  Mozilla/5.0 (Macintosh; Intel Mac OS X 10_15_7...  Online Medical Journal   \n",
      "\n",
      "  CHANNELTYPE                                                URL  \\\n",
      "0     Website  https://www.clinicaladvisor.com/home/features/...   \n",
      "1     Website  https://www.ophthalmologyadvisor.com/topics/ca...   \n",
      "2     Website  https://www.psychiatryadvisor.com/author/tori-...   \n",
      "\n",
      "                                            KEYWORDS      BROWSER  \\\n",
      "0  Oncology|Orthopedics|Rheumatology|Drainage|Art...  Mozilla/5.0   \n",
      "1  Oncology|Urology|Cardiology|Surgical|Surgery|G...  Mozilla/5.0   \n",
      "2  Abortion|Conduct Disorders|Apnea|Urology|Cardi...  Mozilla/5.0   \n",
      "\n",
      "                                                  OS  \n",
      "0  Macintosh; Intel Mac OS X 10_11_6) AppleWebKit...  \n",
      "1  iPhone; CPU iPhone OS 15_6_1 like Mac OS X) Ap...  \n",
      "2  Macintosh; Intel Mac OS X 10_15_7) AppleWebKit...  \n"
     ]
    }
   ],
   "source": [
    "# Read the data from CSV file\n",
    "test_data = pd.read_csv('data\\Doceree-HCP-Test.csv', encoding='latin-1')\n",
    "\n",
    "# Remove leading/trailing whitespaces from all string columns\n",
    "test_data = test_data.apply(lambda x: x.str.strip() if x.dtype == \"object\" else x)\n",
    "\n",
    "# Convert ID column to string\n",
    "test_data['ID'] = test_data['ID'].astype(str)\n",
    "\n",
    "# Remove rows with missing values in specific columns\n",
    "test_data = test_data.dropna(subset=['DEVICETYPE', 'PLATFORM_ID'])\n",
    "\n",
    "# Clean the BIDREQUESTIP column by removing invalid IP addresses\n",
    "test_data['BIDREQUESTIP'] = test_data['BIDREQUESTIP'].astype(str).apply(lambda x: x if pd.Series(x).str.contains('^(\\d{1,3}\\.){3}\\d{1,3}$').all() else None)\n",
    "\n",
    "# Clean the USERZIPCODE column by removing non-numeric characters\n",
    "test_data['USERZIPCODE'] = test_data['USERZIPCODE'].astype(str).str.replace(r'\\D+', '')\n",
    "\n",
    "# Split the USERAGENT column into separate browser and operating system columns\n",
    "test_data[['BROWSER', 'OS']] = test_data['USERAGENT'].astype(str).str.split('(', n=1, expand=True)\n",
    "test_data['BROWSER'] = test_data['BROWSER'].astype(str).str.strip()\n",
    "test_data['OS'] = test_data['OS'].astype(str).str.rstrip(')')\n",
    "\n",
    "# Remove duplicates from KEYWORDS column\n",
    "test_data['KEYWORDS'] = test_data['KEYWORDS'].apply(lambda x: '|'.join(set(x.split('|'))) if pd.notnull(x) else x)\n",
    "\n",
    "# Print the cleaned data\n",
    "print(test_data.head(3))\n"
   ]
  },
  {
   "cell_type": "code",
   "execution_count": 6,
   "metadata": {},
   "outputs": [
    {
     "data": {
      "text/plain": [
       "14"
      ]
     },
     "execution_count": 6,
     "metadata": {},
     "output_type": "execute_result"
    }
   ],
   "source": [
    "test_data.dtypes.count()"
   ]
  },
  {
   "cell_type": "code",
   "execution_count": 7,
   "metadata": {},
   "outputs": [
    {
     "data": {
      "text/plain": [
       "<bound method NDFrame.describe of ID                  object\n",
       "DEVICETYPE          object\n",
       "PLATFORM_ID        float64\n",
       "BIDREQUESTIP        object\n",
       "USERPLATFORMUID     object\n",
       "USERCITY            object\n",
       "USERZIPCODE         object\n",
       "USERAGENT           object\n",
       "PLATFORMTYPE        object\n",
       "CHANNELTYPE         object\n",
       "URL                 object\n",
       "KEYWORDS            object\n",
       "BROWSER             object\n",
       "OS                  object\n",
       "dtype: object>"
      ]
     },
     "execution_count": 7,
     "metadata": {},
     "output_type": "execute_result"
    }
   ],
   "source": [
    "test_data.dtypes.describe"
   ]
  },
  {
   "cell_type": "code",
   "execution_count": 8,
   "metadata": {},
   "outputs": [],
   "source": [
    "# encode all the columns\n",
    "from sklearn.preprocessing import LabelEncoder\n",
    "le = LabelEncoder()\n",
    "test_data = test_data.apply(le.fit_transform)"
   ]
  },
  {
   "cell_type": "code",
   "execution_count": 9,
   "metadata": {},
   "outputs": [
    {
     "name": "stdout",
     "output_type": "stream",
     "text": [
      "14\n"
     ]
    }
   ],
   "source": [
    "test_data.head(3)\n",
    "print(test_data.dtypes.count())"
   ]
  },
  {
   "cell_type": "code",
   "execution_count": 10,
   "metadata": {},
   "outputs": [],
   "source": [
    "# Divide the data target variable and features\n",
    "X = data.drop(['IS_HCP'], axis=1)\n",
    "y = data['IS_HCP']"
   ]
  },
  {
   "cell_type": "code",
   "execution_count": 11,
   "metadata": {},
   "outputs": [],
   "source": [
    "# encode all the columns\n",
    "from sklearn.preprocessing import LabelEncoder\n",
    "le = LabelEncoder()\n",
    "X = X.apply(le.fit_transform)"
   ]
  },
  {
   "cell_type": "code",
   "execution_count": 12,
   "metadata": {},
   "outputs": [
    {
     "data": {
      "text/plain": [
       "15"
      ]
     },
     "execution_count": 12,
     "metadata": {},
     "output_type": "execute_result"
    }
   ],
   "source": [
    "X.dtypes.count()"
   ]
  },
  {
   "cell_type": "code",
   "execution_count": 13,
   "metadata": {},
   "outputs": [
    {
     "data": {
      "text/html": [
       "<div>\n",
       "<style scoped>\n",
       "    .dataframe tbody tr th:only-of-type {\n",
       "        vertical-align: middle;\n",
       "    }\n",
       "\n",
       "    .dataframe tbody tr th {\n",
       "        vertical-align: top;\n",
       "    }\n",
       "\n",
       "    .dataframe thead th {\n",
       "        text-align: right;\n",
       "    }\n",
       "</style>\n",
       "<table border=\"1\" class=\"dataframe\">\n",
       "  <thead>\n",
       "    <tr style=\"text-align: right;\">\n",
       "      <th></th>\n",
       "      <th>ID</th>\n",
       "      <th>DEVICETYPE</th>\n",
       "      <th>PLATFORM_ID</th>\n",
       "      <th>BIDREQUESTIP</th>\n",
       "      <th>USERPLATFORMUID</th>\n",
       "      <th>USERCITY</th>\n",
       "      <th>USERZIPCODE</th>\n",
       "      <th>USERAGENT</th>\n",
       "      <th>PLATFORMTYPE</th>\n",
       "      <th>CHANNELTYPE</th>\n",
       "      <th>URL</th>\n",
       "      <th>KEYWORDS</th>\n",
       "      <th>TAXONOMY</th>\n",
       "      <th>BROWSER</th>\n",
       "      <th>OS</th>\n",
       "    </tr>\n",
       "  </thead>\n",
       "  <tbody>\n",
       "    <tr>\n",
       "      <th>0</th>\n",
       "      <td>110</td>\n",
       "      <td>0</td>\n",
       "      <td>1</td>\n",
       "      <td>6580</td>\n",
       "      <td>22183</td>\n",
       "      <td>3177</td>\n",
       "      <td>10913</td>\n",
       "      <td>2857</td>\n",
       "      <td>3</td>\n",
       "      <td>0</td>\n",
       "      <td>666</td>\n",
       "      <td>692</td>\n",
       "      <td>207</td>\n",
       "      <td>10</td>\n",
       "      <td>2857</td>\n",
       "    </tr>\n",
       "    <tr>\n",
       "      <th>1</th>\n",
       "      <td>221</td>\n",
       "      <td>0</td>\n",
       "      <td>1</td>\n",
       "      <td>19253</td>\n",
       "      <td>40576</td>\n",
       "      <td>130</td>\n",
       "      <td>1900</td>\n",
       "      <td>2672</td>\n",
       "      <td>3</td>\n",
       "      <td>0</td>\n",
       "      <td>708</td>\n",
       "      <td>627</td>\n",
       "      <td>207</td>\n",
       "      <td>10</td>\n",
       "      <td>2671</td>\n",
       "    </tr>\n",
       "    <tr>\n",
       "      <th>2</th>\n",
       "      <td>332</td>\n",
       "      <td>0</td>\n",
       "      <td>1</td>\n",
       "      <td>19704</td>\n",
       "      <td>34968</td>\n",
       "      <td>2701</td>\n",
       "      <td>9156</td>\n",
       "      <td>2672</td>\n",
       "      <td>3</td>\n",
       "      <td>0</td>\n",
       "      <td>666</td>\n",
       "      <td>692</td>\n",
       "      <td>207</td>\n",
       "      <td>10</td>\n",
       "      <td>2671</td>\n",
       "    </tr>\n",
       "    <tr>\n",
       "      <th>3</th>\n",
       "      <td>443</td>\n",
       "      <td>0</td>\n",
       "      <td>2</td>\n",
       "      <td>4193</td>\n",
       "      <td>14676</td>\n",
       "      <td>4420</td>\n",
       "      <td>1959</td>\n",
       "      <td>2945</td>\n",
       "      <td>3</td>\n",
       "      <td>0</td>\n",
       "      <td>327</td>\n",
       "      <td>738</td>\n",
       "      <td>149</td>\n",
       "      <td>10</td>\n",
       "      <td>2945</td>\n",
       "    </tr>\n",
       "    <tr>\n",
       "      <th>4</th>\n",
       "      <td>554</td>\n",
       "      <td>1</td>\n",
       "      <td>6</td>\n",
       "      <td>10056</td>\n",
       "      <td>33844</td>\n",
       "      <td>1767</td>\n",
       "      <td>8359</td>\n",
       "      <td>4049</td>\n",
       "      <td>3</td>\n",
       "      <td>0</td>\n",
       "      <td>1631</td>\n",
       "      <td>418</td>\n",
       "      <td>207</td>\n",
       "      <td>10</td>\n",
       "      <td>4057</td>\n",
       "    </tr>\n",
       "  </tbody>\n",
       "</table>\n",
       "</div>"
      ],
      "text/plain": [
       "    ID  DEVICETYPE  PLATFORM_ID  BIDREQUESTIP  USERPLATFORMUID  USERCITY  \\\n",
       "0  110           0            1          6580            22183      3177   \n",
       "1  221           0            1         19253            40576       130   \n",
       "2  332           0            1         19704            34968      2701   \n",
       "3  443           0            2          4193            14676      4420   \n",
       "4  554           1            6         10056            33844      1767   \n",
       "\n",
       "   USERZIPCODE  USERAGENT  PLATFORMTYPE  CHANNELTYPE   URL  KEYWORDS  \\\n",
       "0        10913       2857             3            0   666       692   \n",
       "1         1900       2672             3            0   708       627   \n",
       "2         9156       2672             3            0   666       692   \n",
       "3         1959       2945             3            0   327       738   \n",
       "4         8359       4049             3            0  1631       418   \n",
       "\n",
       "   TAXONOMY  BROWSER    OS  \n",
       "0       207       10  2857  \n",
       "1       207       10  2671  \n",
       "2       207       10  2671  \n",
       "3       149       10  2945  \n",
       "4       207       10  4057  "
      ]
     },
     "execution_count": 13,
     "metadata": {},
     "output_type": "execute_result"
    }
   ],
   "source": [
    "X.head()"
   ]
  },
  {
   "cell_type": "code",
   "execution_count": 14,
   "metadata": {},
   "outputs": [],
   "source": [
    "#scale the params\n",
    "scaler = MinMaxScaler()\n",
    "data['USERZIPCODE_NORMALIZED'] = scaler.fit_transform(data['USERZIPCODE'].values.reshape(-1, 1))"
   ]
  },
  {
   "cell_type": "code",
   "execution_count": 15,
   "metadata": {},
   "outputs": [
    {
     "ename": "KeyError",
     "evalue": "\"['DEVICETYPE_ENCODED', 'PLATFORMTYPE_ENCODED', 'CHANNELTYPE_ENCODED', 'URL_LENGTH', 'HAS_KEYWORD'] not in index\"",
     "output_type": "error",
     "traceback": [
      "\u001b[1;31m---------------------------------------------------------------------------\u001b[0m",
      "\u001b[1;31mKeyError\u001b[0m                                  Traceback (most recent call last)",
      "Cell \u001b[1;32mIn[15], line 1\u001b[0m\n\u001b[1;32m----> 1\u001b[0m X \u001b[39m=\u001b[39m data[[\u001b[39m'\u001b[39;49m\u001b[39mDEVICETYPE_ENCODED\u001b[39;49m\u001b[39m'\u001b[39;49m, \u001b[39m'\u001b[39;49m\u001b[39mPLATFORMTYPE_ENCODED\u001b[39;49m\u001b[39m'\u001b[39;49m, \u001b[39m'\u001b[39;49m\u001b[39mCHANNELTYPE_ENCODED\u001b[39;49m\u001b[39m'\u001b[39;49m, \u001b[39m'\u001b[39;49m\u001b[39mURL_LENGTH\u001b[39;49m\u001b[39m'\u001b[39;49m, \u001b[39m'\u001b[39;49m\u001b[39mHAS_KEYWORD\u001b[39;49m\u001b[39m'\u001b[39;49m, \u001b[39m'\u001b[39;49m\u001b[39mUSERZIPCODE_NORMALIZED\u001b[39;49m\u001b[39m'\u001b[39;49m]]\n\u001b[0;32m      2\u001b[0m y \u001b[39m=\u001b[39m data[[\u001b[39m'\u001b[39m\u001b[39mIS_HCP\u001b[39m\u001b[39m'\u001b[39m, \u001b[39m'\u001b[39m\u001b[39mTAXONOMY\u001b[39m\u001b[39m'\u001b[39m]]\n",
      "File \u001b[1;32mc:\\Users\\VANI SETH\\AppData\\Local\\Programs\\Python\\Python311\\Lib\\site-packages\\pandas\\core\\frame.py:3767\u001b[0m, in \u001b[0;36mDataFrame.__getitem__\u001b[1;34m(self, key)\u001b[0m\n\u001b[0;32m   3765\u001b[0m     \u001b[39mif\u001b[39;00m is_iterator(key):\n\u001b[0;32m   3766\u001b[0m         key \u001b[39m=\u001b[39m \u001b[39mlist\u001b[39m(key)\n\u001b[1;32m-> 3767\u001b[0m     indexer \u001b[39m=\u001b[39m \u001b[39mself\u001b[39;49m\u001b[39m.\u001b[39;49mcolumns\u001b[39m.\u001b[39;49m_get_indexer_strict(key, \u001b[39m\"\u001b[39;49m\u001b[39mcolumns\u001b[39;49m\u001b[39m\"\u001b[39;49m)[\u001b[39m1\u001b[39m]\n\u001b[0;32m   3769\u001b[0m \u001b[39m# take() does not accept boolean indexers\u001b[39;00m\n\u001b[0;32m   3770\u001b[0m \u001b[39mif\u001b[39;00m \u001b[39mgetattr\u001b[39m(indexer, \u001b[39m\"\u001b[39m\u001b[39mdtype\u001b[39m\u001b[39m\"\u001b[39m, \u001b[39mNone\u001b[39;00m) \u001b[39m==\u001b[39m \u001b[39mbool\u001b[39m:\n",
      "File \u001b[1;32mc:\\Users\\VANI SETH\\AppData\\Local\\Programs\\Python\\Python311\\Lib\\site-packages\\pandas\\core\\indexes\\base.py:5876\u001b[0m, in \u001b[0;36mIndex._get_indexer_strict\u001b[1;34m(self, key, axis_name)\u001b[0m\n\u001b[0;32m   5873\u001b[0m \u001b[39melse\u001b[39;00m:\n\u001b[0;32m   5874\u001b[0m     keyarr, indexer, new_indexer \u001b[39m=\u001b[39m \u001b[39mself\u001b[39m\u001b[39m.\u001b[39m_reindex_non_unique(keyarr)\n\u001b[1;32m-> 5876\u001b[0m \u001b[39mself\u001b[39;49m\u001b[39m.\u001b[39;49m_raise_if_missing(keyarr, indexer, axis_name)\n\u001b[0;32m   5878\u001b[0m keyarr \u001b[39m=\u001b[39m \u001b[39mself\u001b[39m\u001b[39m.\u001b[39mtake(indexer)\n\u001b[0;32m   5879\u001b[0m \u001b[39mif\u001b[39;00m \u001b[39misinstance\u001b[39m(key, Index):\n\u001b[0;32m   5880\u001b[0m     \u001b[39m# GH 42790 - Preserve name from an Index\u001b[39;00m\n",
      "File \u001b[1;32mc:\\Users\\VANI SETH\\AppData\\Local\\Programs\\Python\\Python311\\Lib\\site-packages\\pandas\\core\\indexes\\base.py:5938\u001b[0m, in \u001b[0;36mIndex._raise_if_missing\u001b[1;34m(self, key, indexer, axis_name)\u001b[0m\n\u001b[0;32m   5935\u001b[0m     \u001b[39mraise\u001b[39;00m \u001b[39mKeyError\u001b[39;00m(\u001b[39mf\u001b[39m\u001b[39m\"\u001b[39m\u001b[39mNone of [\u001b[39m\u001b[39m{\u001b[39;00mkey\u001b[39m}\u001b[39;00m\u001b[39m] are in the [\u001b[39m\u001b[39m{\u001b[39;00maxis_name\u001b[39m}\u001b[39;00m\u001b[39m]\u001b[39m\u001b[39m\"\u001b[39m)\n\u001b[0;32m   5937\u001b[0m not_found \u001b[39m=\u001b[39m \u001b[39mlist\u001b[39m(ensure_index(key)[missing_mask\u001b[39m.\u001b[39mnonzero()[\u001b[39m0\u001b[39m]]\u001b[39m.\u001b[39munique())\n\u001b[1;32m-> 5938\u001b[0m \u001b[39mraise\u001b[39;00m \u001b[39mKeyError\u001b[39;00m(\u001b[39mf\u001b[39m\u001b[39m\"\u001b[39m\u001b[39m{\u001b[39;00mnot_found\u001b[39m}\u001b[39;00m\u001b[39m not in index\u001b[39m\u001b[39m\"\u001b[39m)\n",
      "\u001b[1;31mKeyError\u001b[0m: \"['DEVICETYPE_ENCODED', 'PLATFORMTYPE_ENCODED', 'CHANNELTYPE_ENCODED', 'URL_LENGTH', 'HAS_KEYWORD'] not in index\""
     ]
    }
   ],
   "source": [
    "X = data[['DEVICETYPE_ENCODED', 'PLATFORMTYPE_ENCODED', 'CHANNELTYPE_ENCODED', 'URL_LENGTH', 'HAS_KEYWORD', 'USERZIPCODE_NORMALIZED']]\n",
    "y = data[['IS_HCP', 'TAXONOMY']]\n"
   ]
  },
  {
   "cell_type": "code",
   "execution_count": 16,
   "metadata": {},
   "outputs": [],
   "source": [
    "y = pd.get_dummies(y, columns=['TAXONOMY'])"
   ]
  },
  {
   "cell_type": "code",
   "execution_count": 17,
   "metadata": {},
   "outputs": [],
   "source": [
    "X_train, X_val, y_train, y_val = train_test_split(X, y, test_size=0.2, random_state=42)"
   ]
  },
  {
   "cell_type": "code",
   "execution_count": 18,
   "metadata": {},
   "outputs": [
    {
     "name": "stdout",
     "output_type": "stream",
     "text": [
      "Epoch 1/10\n",
      "2849/2849 [==============================] - 6s 2ms/step - loss: 63.6931 - accuracy: 0.6593 - val_loss: 0.6105 - val_accuracy: 0.7005\n",
      "Epoch 2/10\n",
      "2849/2849 [==============================] - 6s 2ms/step - loss: 0.6488 - accuracy: 0.6991 - val_loss: 0.6104 - val_accuracy: 0.7005\n",
      "Epoch 3/10\n",
      "2849/2849 [==============================] - 6s 2ms/step - loss: 0.6263 - accuracy: 0.6998 - val_loss: 0.6106 - val_accuracy: 0.7005\n",
      "Epoch 4/10\n",
      "2849/2849 [==============================] - 5s 2ms/step - loss: 0.6296 - accuracy: 0.6998 - val_loss: 0.6105 - val_accuracy: 0.7005\n",
      "Epoch 5/10\n",
      "2849/2849 [==============================] - 7s 2ms/step - loss: 0.6363 - accuracy: 0.6999 - val_loss: 0.6105 - val_accuracy: 0.7005\n",
      "Epoch 6/10\n",
      "2849/2849 [==============================] - 5s 2ms/step - loss: 0.6134 - accuracy: 0.6999 - val_loss: 0.6105 - val_accuracy: 0.7005\n",
      "Epoch 7/10\n",
      "2849/2849 [==============================] - 5s 2ms/step - loss: 0.6126 - accuracy: 0.6998 - val_loss: 0.6104 - val_accuracy: 0.7005\n"
     ]
    }
   ],
   "source": [
    "model = Sequential()\n",
    "model.add(Dense(128, activation='relu', input_shape=(X_train.shape[1],)))\n",
    "model.add(Dropout(0.2))\n",
    "model.add(Dense(64, activation='relu'))\n",
    "model.add(Dropout(0.2))\n",
    "model.add(Dense(y_train.shape[1], activation='softmax'))\n",
    "model.compile(loss='categorical_crossentropy', optimizer='adam', metrics=['accuracy'])\n",
    "early_stopping = EarlyStopping(patience=5, restore_best_weights=True)\n",
    "history = model.fit(X_train, y_train, validation_data=(X_val, y_val), epochs=10, batch_size=32, callbacks=[early_stopping])"
   ]
  },
  {
   "cell_type": "code",
   "execution_count": 20,
   "metadata": {},
   "outputs": [
    {
     "name": "stdout",
     "output_type": "stream",
     "text": [
      "713/713 [==============================] - 1s 1ms/step - loss: 0.6104 - accuracy: 0.7005\n",
      "Validation loss: 61.04\n",
      "Validation accuracy: 70.05\n"
     ]
    }
   ],
   "source": [
    "loss, accuracy = model.evaluate(X_val, y_val)\n",
    "print('Validation loss: %.2f' % (loss*100))\n",
    "print('Validation accuracy: %.2f' % (accuracy*100))"
   ]
  },
  {
   "cell_type": "code",
   "execution_count": 21,
   "metadata": {},
   "outputs": [],
   "source": [
    "model.save('model2.h5')"
   ]
  }
 ],
 "metadata": {
  "kernelspec": {
   "display_name": "Python 3",
   "language": "python",
   "name": "python3"
  },
  "language_info": {
   "codemirror_mode": {
    "name": "ipython",
    "version": 3
   },
   "file_extension": ".py",
   "mimetype": "text/x-python",
   "name": "python",
   "nbconvert_exporter": "python",
   "pygments_lexer": "ipython3",
   "version": "3.11.1"
  },
  "orig_nbformat": 4
 },
 "nbformat": 4,
 "nbformat_minor": 2
}
